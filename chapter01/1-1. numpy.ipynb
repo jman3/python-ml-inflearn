{
 "cells": [
  {
   "cell_type": "markdown",
   "id": "268b6527",
   "metadata": {},
   "source": [
    "### Numpy ndarray"
   ]
  },
  {
   "cell_type": "code",
   "execution_count": null,
   "id": "a8f5d863",
   "metadata": {},
   "outputs": [],
   "source": [
    "import numpy as np"
   ]
  },
  {
   "cell_type": "markdown",
   "id": "4c27387f",
   "metadata": {},
   "source": [
    "**ndarray**: N차원(Dimension) 배열(Array) 객체를 의미한다\n",
    "- 한 차원이 높아질때마다 한 차원 밑에 있는 요소들을 원소로 가지는 배열이 있다\n",
    "    - 1차원이 선을 그어놓고 점을 찍는 형태라면 이렇게 생겼다 [1, 2, 3, 4]\n",
    "    - 2차원이 1차원의 선이 여러개 모인 형태라면 [[1, 2, 3, 4], [5, 6, 7, 8]] 이렇게 생겼고 면을 형성한다\n",
    "    - 3차원은 [[[1, 2, 3, 4], [5, 6, 7, 8]], [[9, 10, 11, 12], [13, 14, 15, 16]]] 이렇게 생겼다\n",
    "\n",
    "- 넘파이의 ndarray는 파이썬 리스트를 인자로 줘서 아래와 같이 생성할 수 있다"
   ]
  },
  {
   "cell_type": "code",
   "execution_count": null,
   "id": "20921b1c",
   "metadata": {},
   "outputs": [],
   "source": [
    "list1 = [1, 2, 3]\n",
    "print(f\"list1 type: {type(list1)}\")\n",
    "\n",
    "array1 = np.array(list1)\n",
    "print(f\"array1 type: {type(array1)}\")\n",
    "print(f\"array1 shape: {array1.shape}\")"
   ]
  },
  {
   "cell_type": "markdown",
   "id": "9b5fd00d",
   "metadata": {},
   "source": [
    "- 위 array1 처럼 1차원인 경우에는 shape가 (3,) 처럼 하나의 요소만 가지는 튜플을 반환한다"
   ]
  },
  {
   "cell_type": "code",
   "execution_count": null,
   "id": "f9241727",
   "metadata": {},
   "outputs": [],
   "source": [
    "array2 = np.array([[1, 2, 3],\n",
    "                 [2, 3, 4]])\n",
    "print(f\"array2 type: {type(array2)}\")\n",
    "print(f\"array2 shape: {array2.shape}\")\n",
    "print(f\"array2 dimension: {array2.ndim}차원\")"
   ]
  },
  {
   "cell_type": "markdown",
   "id": "ef40a684",
   "metadata": {},
   "source": [
    "- 위 array2는 2차원으로 shape도 (2, 3) 나타난다.\n",
    "- array2.shape의 튜플 요소가 2개이므로 2차원임을 알 수 있다 (array의 차원은 ndim으로 확인해도 되고, shape의 튜플 요소 개수로도 확인할 수 있다)"
   ]
  },
  {
   "cell_type": "code",
   "execution_count": null,
   "id": "269cb857",
   "metadata": {},
   "outputs": [],
   "source": [
    "array3 = np.array([[1, 2, 3]])\n",
    "print(f\"array3 type: {type(array3)}\")\n",
    "print(f\"array3 shape: {array3.shape}\")\n",
    "print(f\"array3 dimension: {array3.ndim}차원\")"
   ]
  },
  {
   "cell_type": "markdown",
   "id": "b0f099e9",
   "metadata": {},
   "source": [
    "- 위 array3은 array1과 달리 중첩된 리스트로 인자를 전달했다. 이 경우 1차원이 아닌 2차원이 되며, shape도 (1, 3)으로 (3,) 이었던 array1과 다르다"
   ]
  },
  {
   "cell_type": "markdown",
   "id": "6371847c",
   "metadata": {},
   "source": [
    "### ndarray 데이터 타입"
   ]
  },
  {
   "cell_type": "markdown",
   "id": "7deef23b",
   "metadata": {},
   "source": [
    "dtype을 통해 array에 있는 요소들의 데이터 타입을 확인할 수 있다"
   ]
  },
  {
   "cell_type": "code",
   "execution_count": null,
   "id": "2603b534",
   "metadata": {},
   "outputs": [],
   "source": [
    "array1 = np.array([1, 2, 3])\n",
    "print(f\"array1: {array1}\")\n",
    "print(f\"array1 data type: {array1.dtype}\")"
   ]
  },
  {
   "cell_type": "markdown",
   "id": "cbe0dee1",
   "metadata": {},
   "source": [
    "**ndarray 안의 데이터 타입은 모두 동일해야한다**\n",
    "- 아래 예시처럼 서로 다른 타입의 데이터를 넣어서 array를 생성하는 경우 자동형변환이 되어서 들어가게 된다"
   ]
  },
  {
   "cell_type": "code",
   "execution_count": null,
   "id": "0a28af35",
   "metadata": {},
   "outputs": [],
   "source": [
    "array2 = np.array([1, 2, \"test\"])\n",
    "print(f\"array2: {array2}\")\n",
    "print(f\"array2 data type: {array2.dtype}\")\n",
    "\n",
    "array3 = np.array([1, 2.0, 3])\n",
    "print(f\"array3: {array3}\")\n",
    "print(f\"array3 data type: {array3.dtype}\")"
   ]
  },
  {
   "cell_type": "markdown",
   "id": "93837e7e",
   "metadata": {},
   "source": [
    "- astype을 이용해서 array내 데이터 타입을 변경할 수 있다"
   ]
  },
  {
   "cell_type": "code",
   "execution_count": null,
   "id": "0a6c9e51",
   "metadata": {},
   "outputs": [],
   "source": [
    "array_int = np.array([1, 2, 3])\n",
    "array_float = array_int.astype(\"float64\") # array_int.astype(np.float64) 도 가능\n",
    "print(f\"array_float: {array_float}\")\n",
    "print(f\"array_float data type: {array_float.dtype}\")\n",
    "\n",
    "array_int1 = array_float.astype(np.int32)\n",
    "print(f\"array_int1: {array_int1}\")\n",
    "print(f\"array_int1 data type: {array_int1.dtype}\")"
   ]
  },
  {
   "cell_type": "markdown",
   "id": "e1c5d7f0",
   "metadata": {},
   "source": [
    "### ndarray를 편하게 생성하기 - arange, zeros, ones"
   ]
  },
  {
   "cell_type": "code",
   "execution_count": null,
   "id": "c48014e2",
   "metadata": {},
   "outputs": [],
   "source": [
    "sequence_array = np.arange(10)\n",
    "\n",
    "print(f\"sequence_array: {sequence_array}\")\n",
    "print(f\"sequence_array type: {type(sequence_array)}\")\n",
    "print(f\"sequence_array data type: {sequence_array.dtype}\")\n",
    "print(f\"sequence_array shape: {sequence_array.shape}\")"
   ]
  },
  {
   "cell_type": "code",
   "execution_count": null,
   "id": "3f5dd6f5",
   "metadata": {},
   "outputs": [],
   "source": [
    "zero_array = np.zeros((3, 2), dtype=\"int32\")\n",
    "\n",
    "print(f\"zero_array: {zero_array}\")\n",
    "print(f\"zero_array type: {type(zero_array)}\")\n",
    "print(f\"zero_array data type: {zero_array.dtype}\")\n",
    "print(f\"zero_array shape: {zero_array.shape}\")\n",
    "\n",
    "one_array = np.ones((3, 2))\n",
    "\n",
    "print(f\"one_array: {one_array}\")\n",
    "print(f\"one_array type: {type(one_array)}\")\n",
    "print(f\"one_array data type: {one_array.dtype}\")\n",
    "print(f\"one_array shape: {one_array.shape}\")\n"
   ]
  },
  {
   "cell_type": "markdown",
   "id": "3aaef1a3",
   "metadata": {},
   "source": [
    "### ndarray의 차원과 크기를 변경하는 reshape"
   ]
  },
  {
   "cell_type": "code",
   "execution_count": null,
   "id": "37913784",
   "metadata": {},
   "outputs": [],
   "source": [
    "array1 = np.arange(10)\n",
    "print(\"array1: \\n\", array1)\n",
    "\n",
    "array2 = array1.reshape(2, 5)\n",
    "print(\"array2: \\n\", array2)\n",
    "\n",
    "array3 = array1.reshape(5, 2)\n",
    "print(\"array3: \\n\", array3)"
   ]
  },
  {
   "cell_type": "code",
   "execution_count": null,
   "id": "49a297d7",
   "metadata": {},
   "outputs": [],
   "source": [
    "# 만약 사이즈가 딱 떨어지지 않는 경우 reshape는 오류를 발생시킨다\n",
    "array1.reshape(4, 3)"
   ]
  },
  {
   "cell_type": "markdown",
   "id": "f5403e77",
   "metadata": {},
   "source": [
    "- 아래와 같이reshape에서 한 axis에 -1을 사용하면 나머지 axis에 있는 숫자에 맞춰서 reshape해준다\n",
    "    - reshape(-1, 5)라면 axis1(2차원에서는 컬럼)을 5를 고정해두고 데이터 크기에 맞춰서 axis0이 자동으로 설정된다"
   ]
  },
  {
   "cell_type": "code",
   "execution_count": null,
   "id": "e593984e",
   "metadata": {},
   "outputs": [],
   "source": [
    "array1 = np.arange(40)\n",
    "print(array1)\n",
    "\n",
    "array2 = array1.reshape(-1, 5)\n",
    "print(f\"array2 shape: {array2.shape}\")\n",
    "\n",
    "array3 = array1.reshape(5, -1)\n",
    "print(f\"array3 shape: {array3.shape}\")\n"
   ]
  },
  {
   "cell_type": "code",
   "execution_count": null,
   "id": "fe31a337",
   "metadata": {},
   "outputs": [],
   "source": [
    "array1 = np.arange(8)\n",
    "array3d = array1.reshape((2, 2, 2))\n",
    "print(\"array3d: \\n\", array3d.tolist())\n",
    "\n",
    "# 3차원 ndarray -> 2차원 ndarray 변경하면서 axis1(컬럼)의 개수는 1로 고정\n",
    "array5 = array3d.reshape(-1, 1)\n",
    "print(\"array5: \\n\", array5)\n",
    "print(\"array5 shape: \", array5.shape)\n",
    "\n",
    "# 1차원 ndarray -> 2차원 ndarray 변경하면서 axis1(컬럼)의 개수는 1로 고정\n",
    "array6 = array1.reshape(-1, 1)\n",
    "print(\"array6: \\n\", array6)\n",
    "print(\"array6 shape: \", array6.shape)"
   ]
  },
  {
   "cell_type": "code",
   "execution_count": null,
   "id": "838d383b",
   "metadata": {},
   "outputs": [],
   "source": [
    "# 3차원 ndarray -> 1차원 ndarray로 변환\n",
    "array1d = array3d.reshape(-1,)\n",
    "print(\"array1d: \", array1d)\n",
    "print(\"array1d shape: \", array1d.shape)"
   ]
  },
  {
   "cell_type": "markdown",
   "id": "93a1fcac",
   "metadata": {},
   "source": [
    "### 넘파이 ndarray의 데이터 세트 선택하기 - indexing"
   ]
  },
  {
   "cell_type": "markdown",
   "id": "f07439d0",
   "metadata": {},
   "source": [
    "1. 단일 인덱싱"
   ]
  },
  {
   "cell_type": "code",
   "execution_count": 151,
   "id": "56c71ac7",
   "metadata": {},
   "outputs": [
    {
     "name": "stdout",
     "output_type": "stream",
     "text": [
      "array1:  [1 2 3 4 5 6 7 8 9]\n",
      "value:  4\n",
      "<class 'numpy.int64'>\n"
     ]
    }
   ],
   "source": [
    "array1 = np.arange(1, 10)\n",
    "print(\"array1: \", array1)\n",
    "\n",
    "value = array1[3]\n",
    "print(\"value: \", value)\n",
    "print(type(value))\n",
    "# 위처럼 단일 인덱싱을 하면 차원을 하나 줄여주게 된다 (1차원 -> 0차원)"
   ]
  },
  {
   "cell_type": "code",
   "execution_count": 148,
   "id": "d4a35ed6",
   "metadata": {},
   "outputs": [
    {
     "name": "stdout",
     "output_type": "stream",
     "text": [
      "맨 뒤의 값:  9\n",
      "맨 뒤에서 두번째 값:  8\n"
     ]
    }
   ],
   "source": [
    "print(\"맨 뒤의 값: \", array1[-1]) \n",
    "print(\"맨 뒤에서 두번째 값: \", array1[-2])"
   ]
  },
  {
   "cell_type": "markdown",
   "id": "ab253fa4",
   "metadata": {},
   "source": [
    "단일 인덱싱을 통해 해당 위치에 있는 값을 변경할 수 있다"
   ]
  },
  {
   "cell_type": "code",
   "execution_count": 149,
   "id": "86c4bf17",
   "metadata": {},
   "outputs": [
    {
     "name": "stdout",
     "output_type": "stream",
     "text": [
      "array1:  [9 2 3 4 5 6 7 8 0]\n"
     ]
    }
   ],
   "source": [
    "array1[0] = 9\n",
    "array1[8] = 0\n",
    "print(\"array1: \", array1)"
   ]
  },
  {
   "cell_type": "code",
   "execution_count": 160,
   "id": "12780a38",
   "metadata": {},
   "outputs": [
    {
     "name": "stdout",
     "output_type": "stream",
     "text": [
      "array2d: \n",
      " [[1 2 3]\n",
      " [4 5 6]\n",
      " [7 8 9]]\n",
      "array2d[0, 0]:  1\n",
      "array2d[0, 1]:  2\n",
      "array2d[2, 2]:  9\n"
     ]
    }
   ],
   "source": [
    "array1d = np.arange(1, 10)\n",
    "array2d = array1d.reshape((3, 3))\n",
    "print(\"array2d: \\n\", array2d)\n",
    "\n",
    "print(\"array2d[0, 0]: \", array2d[0, 0])\n",
    "print(\"array2d[0, 1]: \", array2d[0, 1])\n",
    "print(\"array2d[2, 2]: \", array2d[2, 2])"
   ]
  },
  {
   "cell_type": "markdown",
   "id": "e343973b",
   "metadata": {},
   "source": [
    "2. 슬라이싱 인덱싱"
   ]
  },
  {
   "cell_type": "code",
   "execution_count": 167,
   "id": "01d21fde",
   "metadata": {},
   "outputs": [
    {
     "name": "stdout",
     "output_type": "stream",
     "text": [
      "array1:  [1 2 3 4 5 6 7 8 9]\n",
      "array3:  [1 2 3]\n",
      "array3 type:  <class 'numpy.ndarray'>\n",
      "array4:  [1 2 3 4 5 6 7 8 9]\n"
     ]
    }
   ],
   "source": [
    "array1 = np.arange(1, 10)\n",
    "print(\"array1: \", array1)\n",
    "array3 = array1[0:3]\n",
    "print(\"array3: \", array3)\n",
    "print(\"array3 type: \", type(array3))\n",
    "\n",
    "# [:]로 전체 데이터 추출\n",
    "array4 = array1[:]\n",
    "print(\"array4: \", array4)"
   ]
  },
  {
   "cell_type": "code",
   "execution_count": 187,
   "id": "8299ec4b",
   "metadata": {},
   "outputs": [
    {
     "name": "stdout",
     "output_type": "stream",
     "text": [
      "array2d:\n",
      " [[1 2 3]\n",
      " [4 5 6]\n",
      " [7 8 9]]\n",
      "array2d[0:2, 0:2]\n",
      " [[1 2 3]\n",
      " [4 5 6]]\n",
      "array2d[1:3, 0:3]\n",
      " [[4 5 6]\n",
      " [7 8 9]]\n",
      "array2d[1:3, :]\n",
      " [[4 5 6]\n",
      " [7 8 9]]\n",
      "array2d[:, :]\n",
      " [[1 2 3]\n",
      " [4 5 6]\n",
      " [7 8 9]]\n",
      "array2d[:2, 1:]\n",
      " [[2 3]\n",
      " [5 6]]\n",
      "array2d[:2, 0]\n",
      " [1 4]\n"
     ]
    }
   ],
   "source": [
    "array1d = np.arange(1, 10)\n",
    "array2d = array1d.reshape(3, 3)\n",
    "print(\"array2d:\\n\", array2d)\n",
    "\n",
    "print(\"array2d[0:2, 0:2]\\n\", array2d[0:2, :])\n",
    "print(\"array2d[1:3, 0:3]\\n\", array2d[1:3, 0:3])\n",
    "print(\"array2d[1:3, :]\\n\", array2d[1:3, :])\n",
    "print(\"array2d[:, :]\\n\", array2d[:, :])\n",
    "print(\"array2d[:2, 1:]\\n\", array2d[:2, 1:])\n",
    "print(\"array2d[:2, 0]\\n\", array2d[:2, 0]) # 2차원에 대해서 단일 인덱싱을 했더니 1차원이 됐다 (2차원 -> 1차원)"
   ]
  },
  {
   "cell_type": "code",
   "execution_count": 185,
   "id": "a0551a6f",
   "metadata": {},
   "outputs": [
    {
     "name": "stdout",
     "output_type": "stream",
     "text": [
      "[1 2 3]\n",
      "[4 5 6]\n",
      "array2d[0] shape: (3,)\n",
      "array2d[1] shape: (3,)\n"
     ]
    }
   ],
   "source": [
    "print(array2d[0])\n",
    "print(array2d[1])\n",
    "print(\"array2d[0] shape:\", array2d[0].shape)\n",
    "print(\"array2d[1] shape:\", array2d[1].shape)"
   ]
  },
  {
   "cell_type": "markdown",
   "id": "94270a56",
   "metadata": {},
   "source": [
    "3. 팬시 인덱싱"
   ]
  },
  {
   "cell_type": "code",
   "execution_count": 201,
   "id": "6c301acd",
   "metadata": {},
   "outputs": [
    {
     "name": "stdout",
     "output_type": "stream",
     "text": [
      "[[1 2 3]\n",
      " [4 5 6]\n",
      " [7 8 9]]\n",
      "array2d[[0, 1], 2] =>  [3, 6]\n",
      "array2d[[0, 1], 0:2] =>  [[1, 2], [4, 5]]\n",
      "array2d[[0, 1]] =>  [[1, 2, 3], [4, 5, 6]]\n"
     ]
    }
   ],
   "source": [
    "array1d = np.arange(1, 10)\n",
    "array2d = array1d.reshape(3, 3)\n",
    "print(array2d)\n",
    "\n",
    "array3d = array2d[[0, 1], 2]\n",
    "print(\"array2d[[0, 1], 2] => \", array3d.tolist())\n",
    "\n",
    "array4d = array2d[[0, 1], 0:2]\n",
    "print(\"array2d[[0, 1], 0:2] => \", array4d.tolist())\n",
    "\n",
    "array5d = array2d[[0, 1]]\n",
    "print(\"array2d[[0, 1]] => \", array5d.tolist())"
   ]
  },
  {
   "cell_type": "markdown",
   "id": "5f649e1d",
   "metadata": {},
   "source": [
    "4. 불리언 인덱싱"
   ]
  },
  {
   "cell_type": "code",
   "execution_count": 207,
   "id": "d35de00e",
   "metadata": {},
   "outputs": [
    {
     "name": "stdout",
     "output_type": "stream",
     "text": [
      "[1 2 3 4 5 6 7 8 9]\n",
      "array1d[array1d > 5] 실행 결과:  [6 7 8 9]\n"
     ]
    }
   ],
   "source": [
    "array1d = np.arange(1, 10)\n",
    "print(array1d)\n",
    "\n",
    "array3 = array1d[array1d > 5]\n",
    "print('array1d[array1d > 5] 실행 결과: ', array3)"
   ]
  },
  {
   "cell_type": "code",
   "execution_count": 208,
   "id": "bf7f39a7",
   "metadata": {},
   "outputs": [
    {
     "data": {
      "text/plain": [
       "array([False, False, False, False, False,  True,  True,  True,  True])"
      ]
     },
     "execution_count": 208,
     "metadata": {},
     "output_type": "execute_result"
    }
   ],
   "source": [
    "array1d > 5"
   ]
  },
  {
   "cell_type": "code",
   "execution_count": 211,
   "id": "33977ff3",
   "metadata": {},
   "outputs": [
    {
     "name": "stdout",
     "output_type": "stream",
     "text": [
      "[False False False False False  True  True  True  True] <class 'numpy.ndarray'> (9,)\n"
     ]
    }
   ],
   "source": [
    "val = array1d > 5\n",
    "print(val, type(val), val.shape)"
   ]
  },
  {
   "cell_type": "code",
   "execution_count": 213,
   "id": "f0932784",
   "metadata": {},
   "outputs": [
    {
     "name": "stdout",
     "output_type": "stream",
     "text": [
      "Boolean index로 필터링한 결과:  [6 7 8 9]\n"
     ]
    }
   ],
   "source": [
    "boolean_indexes = np.array([False, False, False, False, False, True, True, True, True])\n",
    "array3 = array1d[boolean_indexes]\n",
    "print(\"Boolean index로 필터링한 결과:\", array3)"
   ]
  },
  {
   "cell_type": "code",
   "execution_count": 217,
   "id": "d3950267",
   "metadata": {},
   "outputs": [
    {
     "name": "stdout",
     "output_type": "stream",
     "text": [
      "[6 7 8 9]\n"
     ]
    }
   ],
   "source": [
    "array1d = np.arange(1, 10)\n",
    "target = []\n",
    "for i in range(9):\n",
    "    if array1d[i] > 5:\n",
    "        target.append(array1d[i])\n",
    "\n",
    "array_selected = np.array(target)\n",
    "print(array_selected)"
   ]
  },
  {
   "cell_type": "code",
   "execution_count": 218,
   "id": "709b3bda",
   "metadata": {},
   "outputs": [
    {
     "name": "stdout",
     "output_type": "stream",
     "text": [
      "일반 인덱스로 필터링한 결과: [6 7 8 9]\n"
     ]
    }
   ],
   "source": [
    "indexes = np.array([5, 6, 7, 8])\n",
    "array4 = array1d[indexes]\n",
    "print(\"일반 인덱스로 필터링한 결과:\", array4)"
   ]
  },
  {
   "cell_type": "markdown",
   "id": "1e0403ac",
   "metadata": {},
   "source": [
    "### 행렬의 정렬 – sort( )와 argsort( )"
   ]
  },
  {
   "cell_type": "markdown",
   "id": "aec9b399",
   "metadata": {},
   "source": [
    "- 아래 두 가지 방법 모두 기본적으로 오름차순 정렬. 내림차순을 위해서는 np.sort()[::-1]과 같이 사용\n",
    "1. np.sort(ndarray) - 인자로 들어온 원래 행렬은 그대로 유지. 정렬된 새로운 행렬을 리턴\n",
    "2. ndarray.sort() - 원래 행렬 자체의 정렬을 변환함. 리턴값은 None"
   ]
  },
  {
   "cell_type": "code",
   "execution_count": 226,
   "id": "aeadc2c6",
   "metadata": {},
   "outputs": [
    {
     "name": "stdout",
     "output_type": "stream",
     "text": [
      "원본 배열: [3 1 9 5]\n",
      "np.sort()로 정렬된 행렬: [1 3 5 9]\n",
      "np.sort()이후 원본 행렬: [3 1 9 5]\n",
      "org_array.sort() 호출 후 반환된 행렬: None\n",
      "org_array.sort() 호출 후 원본 행렬: [1 3 5 9]\n"
     ]
    }
   ],
   "source": [
    "org_array = np.array([3, 1, 9, 5])\n",
    "print(\"원본 배열:\", org_array)\n",
    "\n",
    "# np.sort()를 활용한 정렬\n",
    "sorted_array = np.sort(org_array)\n",
    "print(\"np.sort()로 정렬된 행렬:\", sorted_array)\n",
    "print(\"np.sort()이후 원본 행렬:\", org_array)\n",
    "\n",
    "# ndarray.sort()를 활용한 정렬\n",
    "sorted_array2 = org_array.sort()\n",
    "print(\"org_array.sort() 호출 후 반환된 행렬:\", sorted_array2)\n",
    "print(\"org_array.sort() 호출 후 원본 행렬:\", org_array)"
   ]
  },
  {
   "cell_type": "code",
   "execution_count": 229,
   "id": "8dc056ae",
   "metadata": {},
   "outputs": [
    {
     "name": "stdout",
     "output_type": "stream",
     "text": [
      "내림차순 정렬:  [9 5 3 1]\n"
     ]
    }
   ],
   "source": [
    "sorted_array_desc = np.sort(org_array)[::-1]\n",
    "print(\"내림차순 정렬: \", sorted_array_desc)"
   ]
  },
  {
   "cell_type": "code",
   "execution_count": 236,
   "id": "da20b4b6",
   "metadata": {},
   "outputs": [
    {
     "name": "stdout",
     "output_type": "stream",
     "text": [
      "axis=0:\n",
      " [[ 7  1]\n",
      " [ 8 12]]\n",
      "axis=1:\n",
      " [[ 1  8]\n",
      " [ 7 12]]\n"
     ]
    }
   ],
   "source": [
    "array2d = np.array([[8, 1], \n",
    "                    [7, 12]])\n",
    "\n",
    "# axis=0 (행) 기준으로 정렬\n",
    "sort_array2d_axis0 = np.sort(array2d, axis=0)\n",
    "print(\"axis=0:\\n\", sort_array2d_axis0) # 정렬이 될때 [8, 1]로 되어 있는 것이 꼭 같이 움직이지 않는다\n",
    "\n",
    "# axis=1 (열) 기준으로 정렬\n",
    "sort_array2d_axis1 = np.sort(array2d, axis=1)\n",
    "print(\"axis=1:\\n\", sort_array2d_axis1)"
   ]
  },
  {
   "cell_type": "code",
   "execution_count": 240,
   "id": "1403fd67",
   "metadata": {},
   "outputs": [
    {
     "name": "stdout",
     "output_type": "stream",
     "text": [
      "<class 'numpy.ndarray'>\n",
      "행렬 정렬 시 원본 배열의 인덱스: [1 0 3 2]\n"
     ]
    }
   ],
   "source": [
    "org_array = np.array([3, 1, 9, 5])\n",
    "sort_indices = np.argsort(org_array)\n",
    "print(type(sort_indices))\n",
    "print(\"행렬 정렬 시 원본 배열의 인덱스:\", sort_indices)"
   ]
  },
  {
   "cell_type": "code",
   "execution_count": 243,
   "id": "c1687cbf",
   "metadata": {},
   "outputs": [
    {
     "name": "stdout",
     "output_type": "stream",
     "text": [
      "행렬 정렬 시 원본 배열의 인덱스(내림차순): [2 3 0 1]\n"
     ]
    }
   ],
   "source": [
    "org_array = np.array([3, 1, 9, 5])\n",
    "sort_indices_desc = np.argsort(org_array)[::-1]\n",
    "print(\"행렬 정렬 시 원본 배열의 인덱스(내림차순):\", sort_indices_desc)"
   ]
  },
  {
   "cell_type": "code",
   "execution_count": 245,
   "id": "7076fec7",
   "metadata": {},
   "outputs": [
    {
     "name": "stdout",
     "output_type": "stream",
     "text": [
      "성적 오름차순 정렬 시 score_array의 인덱스: [0 2 4 1 3]\n",
      "성적 오름차순으로 name_array의 이름 출력: ['John' 'Sarah' 'Samuel' 'Mike' 'Kate']\n"
     ]
    }
   ],
   "source": [
    "name_array = np.array([\"John\", \"Mike\", \"Sarah\", \"Kate\", \"Samuel\"])\n",
    "score_array = np.array([78, 95, 84, 98, 88])\n",
    "\n",
    "sort_indices_asc = np.argsort(score_array)\n",
    "print(\"성적 오름차순 정렬 시 score_array의 인덱스:\", sort_indices_asc)\n",
    "print(\"성적 오름차순으로 name_array의 이름 출력:\", name_array[sort_indices_asc])"
   ]
  },
  {
   "cell_type": "markdown",
   "id": "ae65a28d",
   "metadata": {},
   "source": [
    "### 선형대수 연산 – 행렬 내적과 전치 행렬 구하기"
   ]
  },
  {
   "cell_type": "markdown",
   "id": "caf9b877",
   "metadata": {},
   "source": [
    "- 행렬 내적"
   ]
  },
  {
   "cell_type": "code",
   "execution_count": 247,
   "id": "e03228db",
   "metadata": {},
   "outputs": [
    {
     "name": "stdout",
     "output_type": "stream",
     "text": [
      "행렬 내적 결과:\n",
      " [[ 58  64]\n",
      " [139 154]]\n"
     ]
    }
   ],
   "source": [
    "A = np.array([[1, 2, 3],\n",
    "              [4, 5, 6]])\n",
    "B = np.array([[7, 8],\n",
    "              [9, 10],\n",
    "              [11, 12]])\n",
    "\n",
    "dot_product = np.dot(A, B)\n",
    "print(\"행렬 내적 결과:\\n\", dot_product)"
   ]
  },
  {
   "cell_type": "markdown",
   "id": "6ac55d05",
   "metadata": {},
   "source": [
    "- 전치 행렬"
   ]
  },
  {
   "cell_type": "code",
   "execution_count": 248,
   "id": "b78f0173",
   "metadata": {},
   "outputs": [
    {
     "name": "stdout",
     "output_type": "stream",
     "text": [
      "A의 전치행렬:\n",
      " [[1 3]\n",
      " [2 4]]\n"
     ]
    }
   ],
   "source": [
    "A = np.array([[1, 2],\n",
    "              [3, 4]])\n",
    "\n",
    "transpose_mat = np.transpose(A)\n",
    "print(\"A의 전치행렬:\\n\", transpose_mat)"
   ]
  }
 ],
 "metadata": {
  "kernelspec": {
   "display_name": "Python 3 (ipykernel)",
   "language": "python",
   "name": "python3"
  },
  "language_info": {
   "codemirror_mode": {
    "name": "ipython",
    "version": 3
   },
   "file_extension": ".py",
   "mimetype": "text/x-python",
   "name": "python",
   "nbconvert_exporter": "python",
   "pygments_lexer": "ipython3",
   "version": "3.11.5"
  }
 },
 "nbformat": 4,
 "nbformat_minor": 5
}
